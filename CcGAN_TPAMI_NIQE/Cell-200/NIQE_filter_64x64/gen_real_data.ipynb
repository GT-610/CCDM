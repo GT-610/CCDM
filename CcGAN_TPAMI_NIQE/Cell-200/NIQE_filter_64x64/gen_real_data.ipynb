{
 "cells": [
  {
   "cell_type": "markdown",
   "metadata": {},
   "source": [
    "### Dump real data for training to this folder, so that we can train the NIQE model"
   ]
  },
  {
   "cell_type": "code",
   "execution_count": 1,
   "metadata": {},
   "outputs": [],
   "source": [
    "import os\n",
    "import math\n",
    "from abc import abstractmethod\n",
    "import random\n",
    "import sys\n",
    "import uuid\n",
    "import copy\n",
    "\n",
    "from PIL import Image\n",
    "import requests\n",
    "import numpy as np\n",
    "import torch\n",
    "import torchvision\n",
    "import torch.nn as nn\n",
    "import torch.backends.cudnn as cudnn\n",
    "import torch.nn.functional as F\n",
    "from torchvision import datasets, transforms\n",
    "from torchvision.utils import save_image\n",
    "from tqdm import tqdm\n",
    "import matplotlib.pyplot as plt\n",
    "import h5py\n",
    "import gc\n",
    "import copy\n",
    "import timeit\n",
    "from tqdm import trange\n",
    "\n",
    "\n",
    "img_size = 64\n",
    "root_path = r\"D:\\LocalWD\\CcGAN_TPAMI_NIQE\\Cell-200\\NIQE_filter_64x64\"\n",
    "h5_file_path = r\"D:\\BaiduSyncdisk\\Baidu_WD\\datasets\\CCGM_or_regression\\Cell200\"\n",
    "\n",
    "seed=2024\n",
    "random.seed(seed)\n",
    "torch.manual_seed(seed)\n",
    "torch.backends.cudnn.deterministic = True\n",
    "cudnn.benchmark = False\n",
    "np.random.seed(seed)\n"
   ]
  },
  {
   "cell_type": "code",
   "execution_count": 8,
   "metadata": {},
   "outputs": [],
   "source": [
    "data_filename = h5_file_path + '/Cell200_{}x{}.h5'.format(img_size, img_size)\n",
    "hf = h5py.File(data_filename, 'r')\n",
    "labels = hf['CellCounts'][:]\n",
    "labels = labels.astype(float)\n",
    "images = hf['IMGs_grey'][:]\n",
    "hf.close()\n",
    "n = len(labels)"
   ]
  },
  {
   "cell_type": "code",
   "execution_count": 9,
   "metadata": {},
   "outputs": [],
   "source": [
    "min_label=1\n",
    "max_label=200\n",
    "num_imgs_per_label=10\n",
    "label_stepsize=2\n",
    "\n",
    "# subset\n",
    "selected_labels = np.arange(min_label, max_label+1)\n",
    "for i in range(len(selected_labels)):\n",
    "    curr_label = selected_labels[i]\n",
    "    index_curr_label = np.where(labels==curr_label)[0]\n",
    "    if i == 0:\n",
    "        images_subset = images[index_curr_label]\n",
    "        labels_subset = labels[index_curr_label]\n",
    "    else:\n",
    "        images_subset = np.concatenate((images_subset, images[index_curr_label]), axis=0)\n",
    "        labels_subset = np.concatenate((labels_subset, labels[index_curr_label]))\n",
    "# for i\n",
    "images = images_subset\n",
    "labels = labels_subset\n",
    "\n",
    "# for each label select num_imgs_per_label\n",
    "selected_labels = np.arange(min_label, max_label+1, label_stepsize)\n",
    "n_unique_labels = len(selected_labels)\n",
    "\n",
    "for i in range(n_unique_labels):\n",
    "    curr_label = selected_labels[i]\n",
    "    index_curr_label = np.where(labels==curr_label)[0]\n",
    "    if i == 0:\n",
    "        images_subset = images[index_curr_label[0:num_imgs_per_label]]\n",
    "        labels_subset = labels[index_curr_label[0:num_imgs_per_label]]\n",
    "    else:\n",
    "        images_subset = np.concatenate((images_subset, images[index_curr_label[0:num_imgs_per_label]]), axis=0)\n",
    "        labels_subset = np.concatenate((labels_subset, labels[index_curr_label[0:num_imgs_per_label]]))\n",
    "# for i\n",
    "images = images_subset\n",
    "labels = labels_subset"
   ]
  },
  {
   "cell_type": "code",
   "execution_count": 11,
   "metadata": {},
   "outputs": [
    {
     "name": "stderr",
     "output_type": "stream",
     "text": [
      "100%|██████████| 1000/1000 [00:00<00:00, 1730.14it/s]\n"
     ]
    }
   ],
   "source": [
    "dump_fake_images_folder = root_path + '/real_data/Cell200_images_0_10_200/images'\n",
    "os.makedirs(dump_fake_images_folder, exist_ok=True)\n",
    "\n",
    "for i in trange(len(labels)):\n",
    "    label_i = labels[i]\n",
    "    filename_i = dump_fake_images_folder + \"/{}_{}.png\".format(i, label_i)\n",
    "    os.makedirs(os.path.dirname(filename_i), exist_ok=True)\n",
    "    image_i = images[i][0]\n",
    "    image_i_pil = Image.fromarray(image_i)\n",
    "    image_i_pil.save(filename_i)\n",
    "#end for i"
   ]
  },
  {
   "cell_type": "code",
   "execution_count": null,
   "metadata": {},
   "outputs": [],
   "source": []
  }
 ],
 "metadata": {
  "kernelspec": {
   "display_name": "Python 3",
   "language": "python",
   "name": "python3"
  },
  "language_info": {
   "codemirror_mode": {
    "name": "ipython",
    "version": 3
   },
   "file_extension": ".py",
   "mimetype": "text/x-python",
   "name": "python",
   "nbconvert_exporter": "python",
   "pygments_lexer": "ipython3",
   "version": "3.11.3"
  }
 },
 "nbformat": 4,
 "nbformat_minor": 2
}
